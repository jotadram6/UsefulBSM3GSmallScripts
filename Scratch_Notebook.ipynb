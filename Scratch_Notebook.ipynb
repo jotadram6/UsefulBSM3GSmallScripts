{
 "metadata": {
  "name": ""
 },
 "nbformat": 3,
 "nbformat_minor": 0,
 "worksheets": [
  {
   "cells": [
    {
     "cell_type": "code",
     "collapsed": false,
     "input": [
      "from SmallTools import *"
     ],
     "language": "python",
     "metadata": {},
     "outputs": [],
     "prompt_number": 1
    },
    {
     "cell_type": "code",
     "collapsed": false,
     "input": [
      "#USING TRIGGER EFFICIENCY FUNCTION\n",
      "FILETOOPEN=\"/home/jose/VBF_DM_ROOT_FILES/SingleMuon_Run2016_PromptReco_v2_MINIAODv2_ZmumuCR_NoDimuonMassCut_01092016.root\"\n",
      "#FILETOOPEN=\"/home/jose/VBF_DM_ROOT_FILES/SingleMuon_Run2016_PromptReco_v2_MINIAODv2_WmuCR_FlorezCards_SingleMuon_05092016.root\"\n",
      "DenVar=\"NRecoTriggers1/Met\"\n",
      "NumVar=\"NRecoTriggers2/Met\"\n",
      "Rebinning=10\n",
      "PDFfile=\"ZmumuCR_SingleMuon_Run2016.pdf\"\n",
      "TriggerEff(FILETOOPEN, DenVar, NumVar, Rebinning, PDFfile)\n",
      "cmd.getoutput(\"evince \"+PDFfile+\" \")"
     ],
     "language": "python",
     "metadata": {},
     "outputs": [
      {
       "metadata": {},
       "output_type": "pyout",
       "prompt_number": 7,
       "text": [
        "''"
       ]
      }
     ],
     "prompt_number": 7
    },
    {
     "cell_type": "code",
     "collapsed": false,
     "input": [],
     "language": "python",
     "metadata": {},
     "outputs": []
    }
   ],
   "metadata": {}
  }
 ]
}