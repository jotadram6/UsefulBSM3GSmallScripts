{
 "metadata": {
  "name": ""
 },
 "nbformat": 3,
 "nbformat_minor": 0,
 "worksheets": [
  {
   "cells": [
    {
     "cell_type": "code",
     "collapsed": false,
     "input": [
      "from SmallTools import *"
     ],
     "language": "python",
     "metadata": {},
     "outputs": [],
     "prompt_number": 1
    },
    {
     "cell_type": "code",
     "collapsed": false,
     "input": [
      "#USING TRIGGER EFFICIENCY FUNCTION\n",
      "#FILETOOPEN=\"/home/jose/VBF_DM_ROOT_FILES/SingleMuon_Run2016_PromptReco_v2_MINIAODv2_ZmumuCR_NoDimuonMassCut_01092016.root\"\n",
      "#FILETOOPEN=\"/home/jose/VBF_DM_ROOT_FILES/SingleMuon_Run2016_PromptReco_v2_MINIAODv2_WmuCR_FlorezCards_SingleMuon_05092016.root\"\n",
      "#FILETOOPEN=\"/home/jose/VBF_DM_ROOT_FILES/SingleMuon_Run2016_PromptReco_v2_MINIAODv2_WmuCR_ALI_13092016.root\"\n",
      "#SingleMuon_Run2016_PromptReco_v2_MINIAODv2_WmuCR_FlorezCards_SingleMuon_05092016.root\"\n",
      "Folder=\"/home/jose/VBF_DM_ROOT_FILES/\"\n",
      "#File=\"SingleMuon_Run2016_PromptReco_v2_MINIAODv2_WmuCR_FlorezCard_15092016.root\"\n",
      "File=\"HTMHT_Run2016_PromptReco_v2_MINIAODv2_WmuCR_FlorezCard_19092016.root\"\n",
      "FILETOOPEN=Folder+File\n",
      "\n",
      "#DenVar=\"NRecoTriggers1/Met\"\n",
      "DenVar=\"NDiJetCombinations/Met\"\n",
      "NumVar=\"NRecoTriggers2/Met\"\n",
      "Rebinning=2\n",
      "PDFfile=\"WmuCR_HTMHT_Run2016_FlorezCards_19092016_CorrectedCards.pdf\"\n",
      "TriggerEff(FILETOOPEN, DenVar, NumVar, Rebinning, PDFfile)\n",
      "cmd.getoutput(\"evince \"+PDFfile+\" \")"
     ],
     "language": "python",
     "metadata": {},
     "outputs": [
      {
       "metadata": {},
       "output_type": "pyout",
       "prompt_number": 3,
       "text": [
        "''"
       ]
      }
     ],
     "prompt_number": 3
    },
    {
     "cell_type": "code",
     "collapsed": false,
     "input": [
      "#USING Function to extract histograms\n",
      "#FILETOOPEN=\"/home/jose/VBF_DM_ROOT_FILES/SingleMuon_Run2016_PromptReco_v2_MINIAODv2_ZmumuCR_NoDimuonMassCut_01092016.root\"\n",
      "#FILETOOPEN=\"/home/jose/VBF_DM_ROOT_FILES/SingleMuon_Run2016_PromptReco_v2_MINIAODv2_WmuCR_FlorezCards_SingleMuon_05092016.root\"\n",
      "FILETOOPEN=\"/home/jose/VBF_DM_ROOT_FILES/SingleMuon_Run2016_PromptReco_v2_MINIAODv2_WmuCR_ALI_13092016.root\"\n",
      "\n",
      "HToExtract=[\"NRecoTriggers2/Met\",\"NRecoTriggers2/FirstLeadingJetPt\",\"NRecoTriggers2/SecondLeadingJetPt\",\n",
      "            \"NRecoTriggers2/FirstLeadingJetEta\",\"NRecoTriggers2/SecondLeadingJetEta\"]\n",
      "Rebinning=[5,5,5,4,4]\n",
      "PDFfile=\"WmuCR_SingleMuon_Run2016_ALI_histograms.pdf\"\n",
      "ExtractHistos(FILETOOPEN,HToExtract,Rebinning,PDFfile,\"hist E\")\n",
      "cmd.getoutput(\"evince \"+PDFfile+\" \")"
     ],
     "language": "python",
     "metadata": {},
     "outputs": [
      {
       "metadata": {},
       "output_type": "pyout",
       "prompt_number": 2,
       "text": [
        "''"
       ]
      }
     ],
     "prompt_number": 2
    },
    {
     "cell_type": "code",
     "collapsed": false,
     "input": [],
     "language": "python",
     "metadata": {},
     "outputs": []
    }
   ],
   "metadata": {}
  }
 ]
}